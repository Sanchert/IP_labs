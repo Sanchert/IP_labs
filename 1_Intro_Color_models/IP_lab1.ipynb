{
 "cells": [
  {
   "cell_type": "code",
   "execution_count": null,
   "id": "9a660492",
   "metadata": {},
   "outputs": [],
   "source": [
    "# 1. Загрузите изображение в оттенках серого sar_1_gray.jpg. \n",
    "# 2. постройте гистограмму\n",
    "# 3. реализуйте алгоритм гамма коррекции с параметром гамма <1, >1.\n",
    "# 4. Сравните исходное изображение, скорректированное при помощи гамма-фильтра. MSE, SSIM.\n",
    "# 5. реализуйте алгоритм статистической цветокоррекции на основе статистики eq_gray.\n",
    "# 6. Протестируйте работу алгоритмов пороговой фильтрации с различными параметрами.\n",
    "# Для каждого решения - напечатайте результат\n",
    "\n",
    "import numpy as np\n",
    "import cv2\n",
    "import matplotlib.pyplot as plt"
   ]
  },
  {
   "cell_type": "markdown",
   "id": "3d4a5613",
   "metadata": {},
   "source": [
    "# 1. Загрузка изображения"
   ]
  },
  {
   "cell_type": "code",
   "execution_count": null,
   "id": "e86db371",
   "metadata": {},
   "outputs": [],
   "source": [
    "base_image = cv2.imread('sar_1_gray.jpg')\n",
    "plt.title('Base image')\n",
    "plt.axis('off')\n",
    "plt.imshow(base_image)"
   ]
  },
  {
   "cell_type": "markdown",
   "id": "033ab87e",
   "metadata": {},
   "source": [
    "# 2. Построение гистограммы"
   ]
  },
  {
   "cell_type": "code",
   "execution_count": null,
   "id": "e1919e30",
   "metadata": {},
   "outputs": [],
   "source": [
    "image_gray = cv2.cvtColor(base_image, cv2.COLOR_BGR2GRAY)\n",
    "\n",
    "histSize = 256\n",
    "histRange = (0, 256)\n",
    "gray_hist = cv2.calcHist([image_gray], [0], None, [histSize], histRange)\n",
    "plt.plot(gray_hist)\n",
    "plt.title('Brightness histogram')"
   ]
  },
  {
   "cell_type": "code",
   "execution_count": null,
   "id": "0b5ccfe4",
   "metadata": {},
   "outputs": [],
   "source": [
    "gray_hist_hist_cum = gray_hist.cumsum()\n",
    "plt.plot(gray_hist_hist_cum)\n",
    "plt.title('Histogram with accumulation')\n",
    "plt.show()"
   ]
  },
  {
   "cell_type": "markdown",
   "id": "512702b5",
   "metadata": {},
   "source": [
    "# 3. Гаммакоррекция"
   ]
  },
  {
   "cell_type": "code",
   "execution_count": null,
   "id": "bb8de0d9",
   "metadata": {},
   "outputs": [],
   "source": [
    "def gammaCorrection(src, gamma=1.0):\n",
    "    inv_gamma = 1 / gamma\n",
    "    table = [((i / 255) ** inv_gamma) * 255 for i in range(256)]\n",
    "    table = np.array(table, dtype=np.uint8)\n",
    "    return cv2.LUT(src, table)"
   ]
  },
  {
   "cell_type": "markdown",
   "id": "1fa27743",
   "metadata": {},
   "source": [
    "# 4. Гамма-фильтр. MSE, SSIM."
   ]
  },
  {
   "cell_type": "code",
   "execution_count": null,
   "id": "714bdef0",
   "metadata": {},
   "outputs": [],
   "source": [
    "from skimage.metrics import structural_similarity, mean_squared_error\n",
    "\n",
    "gammas = [0.5, 1.5]\n",
    "\n",
    "plt.figure(figsize=(25, 5), facecolor='#354c6c')\n",
    "for i, gamma in enumerate(gammas):\n",
    "    img = gammaCorrection(base_image, gamma)\n",
    "    gamma_img = cv2.cvtColor(img, cv2.COLOR_BGR2GRAY)\n",
    "    \n",
    "    (ssim, diff) = structural_similarity(image_gray, gamma_img, full=True)\n",
    "    diff = (diff * 255).astype('uint8')\n",
    "    mse = mean_squared_error(image_gray, gamma_img)\n",
    "\n",
    "    plt.subplot(1, len(gammas), i+1)\n",
    "    plt.title(f'Gamma = {gamma}\\nMSE:{mse:.3f}, SSIM: {ssim:.3f}', color='white', fontsize=18)\n",
    "    plt.axis('off')\n",
    "    plt.imshow(img, cmap='gray')\n",
    "plt.tight_layout()\n"
   ]
  },
  {
   "cell_type": "markdown",
   "id": "1f01efdc",
   "metadata": {},
   "source": [
    "# 5. Алгоритм статистической цветокоррекции на основе статистики eq_gray."
   ]
  },
  {
   "cell_type": "code",
   "execution_count": null,
   "id": "3d2afd5b",
   "metadata": {},
   "outputs": [],
   "source": [
    "mean = image_gray.mean()\n",
    "std = image_gray.std()\n",
    "\n",
    "eq_gray = cv2.equalizeHist(image_gray)\n",
    "\n",
    "mean_eq_gray = eq_gray.mean()\n",
    "std_eq_gray  = eq_gray.std()\n",
    "\n",
    "corrected_image = image_gray.astype(np.float32)\n",
    "corrected_image = mean_eq_gray + (corrected_image - mean) * (std_eq_gray / std)\n",
    "corrected_image = np.clip(corrected_image, 0, 255).astype(np.uint8)\n",
    "\n",
    "mean_corrected = corrected_image.mean()\n",
    "std_corrected = corrected_image.std()\n",
    "\n",
    "images_info = [\n",
    "    ('Base', (image_gray, mean, std)),\n",
    "    ('Eq_gray', (eq_gray, mean_eq_gray, std_eq_gray)),\n",
    "    ('Corrected', (corrected_image, mean_corrected, std_corrected))\n",
    "]\n",
    "\n",
    "plt.figure(figsize=(25, 5), facecolor='#354c6c')\n",
    "for i, (name, (src, mean, std)) in enumerate(images_info):\n",
    "    plt.subplot(1, len(images_info), i+1)\n",
    "    plt.title(f'{name}\\nstd={std:.3f} mean={mean:.3f}', color='white', fontsize=18)\n",
    "    plt.axis('off')\n",
    "    plt.imshow(src, cmap='gray')\n",
    "plt.tight_layout()\n",
    "plt.show()"
   ]
  },
  {
   "cell_type": "markdown",
   "id": "edae9256",
   "metadata": {},
   "source": [
    "# 6. Пороговая фильтрация"
   ]
  },
  {
   "cell_type": "code",
   "execution_count": null,
   "id": "76dd6f88",
   "metadata": {},
   "outputs": [],
   "source": [
    "thresholds = [i for i in range(100, 200, 25)]\n",
    "methods = [\n",
    "    ('Binary', cv2.THRESH_BINARY),\n",
    "    ('Inverted Binary', cv2.THRESH_BINARY_INV),\n",
    "    ('Truncated', cv2.THRESH_TRUNC),\n",
    "    ('To Zero', cv2.THRESH_TOZERO),\n",
    "    ('To Zero Inverted', cv2.THRESH_TOZERO_INV)\n",
    "]\n",
    "\n",
    "for name, method in methods:\n",
    "    plt.figure(figsize=(25, 5), facecolor='#354c6c')\n",
    "    plt.suptitle(f'{name}', color='white', fontsize=26)\n",
    "    for i, thres in enumerate(thresholds):\n",
    "        _, thresh = cv2.threshold(image_gray, thres, 255, method)\n",
    "        plt.subplot(1, len(thresholds), i+1)\n",
    "        plt.title(f'Threshold={thres}', color='white', fontsize=18)\n",
    "        plt.axis('off')\n",
    "        plt.imshow(thresh, cmap='gray')\n",
    "    plt.tight_layout()\n",
    "    plt.show()"
   ]
  }
 ],
 "metadata": {
  "kernelspec": {
   "display_name": "Python 3",
   "language": "python",
   "name": "python3"
  },
  "language_info": {
   "codemirror_mode": {
    "name": "ipython",
    "version": 3
   },
   "file_extension": ".py",
   "mimetype": "text/x-python",
   "name": "python",
   "nbconvert_exporter": "python",
   "pygments_lexer": "ipython3",
   "version": "3.13.7"
  }
 },
 "nbformat": 4,
 "nbformat_minor": 5
}
